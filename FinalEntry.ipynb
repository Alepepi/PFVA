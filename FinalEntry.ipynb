{
 "cells": [
  {
   "cell_type": "code",
   "execution_count": 4,
   "id": "e178eeff",
   "metadata": {},
   "outputs": [],
   "source": [
    "from sklearn.model_selection import train_test_split\n",
    "import numpy as np\n",
    "from keras.models import Sequential\n",
    "from keras.callbacks import ModelCheckpoint\n",
    "from keras.layers import Conv2D,MaxPooling2D\n",
    "from matplotlib import pyplot as plt\n",
    "from keras.models import load_model\n",
    "import cv2\n",
    "from keras.layers import Dense,Activation,Flatten,Dropout\n",
    "from PIL import Image\n",
    "import glob"
   ]
  },
  {
   "cell_type": "code",
   "execution_count": 5,
   "id": "b05f3acf",
   "metadata": {},
   "outputs": [],
   "source": [
    "def format_images(directory, size):\n",
    "    for i, img in enumerate(os.listdir(directory)):\n",
    "        im = Image.open(directory+img)\n",
    "        im_resize = im.resize(size, Image.ANTIALIAS)\n",
    "        im_resize.save(directory+str(i)+'.jpg')\n",
    "        os.remove(directory+img)"
   ]
  },
  {
   "cell_type": "code",
   "execution_count": 38,
   "id": "3089ac30",
   "metadata": {},
   "outputs": [
    {
     "name": "stdout",
     "output_type": "stream",
     "text": [
      "C:\\Users\\Alex\\Documents\\Universidad\\7mo Semestre\\VA\\FPVA\\WM\\0034_ (Custom).jpg\n",
      "C:\\Users\\Alex\\Documents\\Universidad\\7mo Semestre\\VA\\FPVA\\WM\\0039_ (Custom).jpg\n",
      "C:\\Users\\Alex\\Documents\\Universidad\\7mo Semestre\\VA\\FPVA\\WM\\0043_ (Custom).jpg\n",
      "C:\\Users\\Alex\\Documents\\Universidad\\7mo Semestre\\VA\\FPVA\\WM\\0048_ (Custom).jpg\n",
      "C:\\Users\\Alex\\Documents\\Universidad\\7mo Semestre\\VA\\FPVA\\WM\\0049 (Custom).jpg\n",
      "C:\\Users\\Alex\\Documents\\Universidad\\7mo Semestre\\VA\\FPVA\\WM\\0054_ (Custom).jpg\n",
      "C:\\Users\\Alex\\Documents\\Universidad\\7mo Semestre\\VA\\FPVA\\WM\\0067_ (Custom).jpg\n",
      "C:\\Users\\Alex\\Documents\\Universidad\\7mo Semestre\\VA\\FPVA\\WM\\0068 (Custom).jpg\n",
      "C:\\Users\\Alex\\Documents\\Universidad\\7mo Semestre\\VA\\FPVA\\WM\\0126_ (Custom).jpg\n",
      "C:\\Users\\Alex\\Documents\\Universidad\\7mo Semestre\\VA\\FPVA\\WM\\0190_2_ (Custom).jpg\n",
      "C:\\Users\\Alex\\Documents\\Universidad\\7mo Semestre\\VA\\FPVA\\WM\\0248_ (Custom).jpg\n",
      "C:\\Users\\Alex\\Documents\\Universidad\\7mo Semestre\\VA\\FPVA\\WM\\0309_ (Custom).jpg\n",
      "C:\\Users\\Alex\\Documents\\Universidad\\7mo Semestre\\VA\\FPVA\\WM\\0353_ (Custom).jpg\n",
      "C:\\Users\\Alex\\Documents\\Universidad\\7mo Semestre\\VA\\FPVA\\WM\\0354_ (Custom).jpg\n",
      "C:\\Users\\Alex\\Documents\\Universidad\\7mo Semestre\\VA\\FPVA\\WM\\0539_ (Custom).jpg\n",
      "C:\\Users\\Alex\\Documents\\Universidad\\7mo Semestre\\VA\\FPVA\\WM\\0540_ (Custom).jpg\n",
      "C:\\Users\\Alex\\Documents\\Universidad\\7mo Semestre\\VA\\FPVA\\WM\\0675_ (Custom).jpg\n",
      "C:\\Users\\Alex\\Documents\\Universidad\\7mo Semestre\\VA\\FPVA\\WM\\1076_ (Custom).jpg\n"
     ]
    }
   ],
   "source": [
    "img_list = []\n",
    "rez_list = []\n",
    "\n",
    "for filename in glob.glob(r\"C:\\Users\\Alex\\Documents\\Universidad\\7mo Semestre\\VA\\FPVA\\WM\\*.jpg\"):\n",
    "    print(filename)\n",
    "    ing = Image.open(filename)\n",
    "    img_list.append(ing)\n",
    "\n",
    "for image in img_list:\n",
    "    iamge = image.resize((224,224))\n",
    "    rez_list.append(image)\n",
    "    \n",
    "for (i, new) in enumerate(rez_list):\n",
    "    new.save('{}{}{}'.format(r'C:\\Users\\Alex\\Documents\\Universidad\\7mo Semestre\\VA\\FPVA\\WM2\\im', i+1, '.png'))"
   ]
  },
  {
   "cell_type": "code",
   "execution_count": 39,
   "id": "f8af7723",
   "metadata": {},
   "outputs": [
    {
     "name": "stdout",
     "output_type": "stream",
     "text": [
      "C:\\Users\\Alex\\Documents\\Universidad\\7mo Semestre\\VA\\FPVA\\WoM\\0023_  .jpg\n",
      "C:\\Users\\Alex\\Documents\\Universidad\\7mo Semestre\\VA\\FPVA\\WoM\\0035_  .jpg\n",
      "C:\\Users\\Alex\\Documents\\Universidad\\7mo Semestre\\VA\\FPVA\\WoM\\0083_  .jpg\n",
      "C:\\Users\\Alex\\Documents\\Universidad\\7mo Semestre\\VA\\FPVA\\WoM\\0134_  .jpg\n",
      "C:\\Users\\Alex\\Documents\\Universidad\\7mo Semestre\\VA\\FPVA\\WoM\\0135_  .jpg\n",
      "C:\\Users\\Alex\\Documents\\Universidad\\7mo Semestre\\VA\\FPVA\\WoM\\0148_  .jpg\n",
      "C:\\Users\\Alex\\Documents\\Universidad\\7mo Semestre\\VA\\FPVA\\WoM\\0175_  .jpg\n",
      "C:\\Users\\Alex\\Documents\\Universidad\\7mo Semestre\\VA\\FPVA\\WoM\\0219_  .jpg\n",
      "C:\\Users\\Alex\\Documents\\Universidad\\7mo Semestre\\VA\\FPVA\\WoM\\0230_  .jpg\n",
      "C:\\Users\\Alex\\Documents\\Universidad\\7mo Semestre\\VA\\FPVA\\WoM\\0324_  .jpg\n"
     ]
    }
   ],
   "source": [
    "img_list2 = []\n",
    "rez_list2 = []\n",
    "    \n",
    "for filename in glob.glob(r'C:\\Users\\Alex\\Documents\\Universidad\\7mo Semestre\\VA\\FPVA\\WoM\\*.jpg'):\n",
    "    print(filename)\n",
    "    ing2 = Image.open(filename)\n",
    "    img_list2.append(ing2)\n",
    "\n",
    "for image2 in img_list2:\n",
    "    iamge2 = image2.resize((224,224))\n",
    "    rez_list2.append(image2)\n",
    "    \n",
    "for (i, new2) in enumerate(rez_list2):\n",
    "    new2.save('{}{}{}'.format(r'C:\\Users\\Alex\\Documents\\Universidad\\7mo Semestre\\VA\\FPVA\\WoM2\\im', i+1, '.png'))"
   ]
  },
  {
   "cell_type": "code",
   "execution_count": 6,
   "id": "230df6ca",
   "metadata": {},
   "outputs": [
    {
     "ename": "NameError",
     "evalue": "name 'target' is not defined",
     "output_type": "error",
     "traceback": [
      "\u001b[1;31m---------------------------------------------------------------------------\u001b[0m",
      "\u001b[1;31mNameError\u001b[0m                                 Traceback (most recent call last)",
      "\u001b[1;32m~\\AppData\\Local\\Temp\\ipykernel_18532\\4293013313.py\u001b[0m in \u001b[0;36m<module>\u001b[1;34m\u001b[0m\n\u001b[1;32m----> 1\u001b[1;33m \u001b[0mtarget\u001b[0m\u001b[1;33m=\u001b[0m\u001b[0mnp\u001b[0m\u001b[1;33m.\u001b[0m\u001b[0marray\u001b[0m\u001b[1;33m(\u001b[0m\u001b[0mtarget\u001b[0m\u001b[1;33m)\u001b[0m\u001b[1;33m\u001b[0m\u001b[1;33m\u001b[0m\u001b[0m\n\u001b[0m\u001b[0;32m      2\u001b[0m \u001b[0mdata\u001b[0m\u001b[1;33m=\u001b[0m\u001b[0mnp\u001b[0m\u001b[1;33m.\u001b[0m\u001b[0marray\u001b[0m\u001b[1;33m(\u001b[0m\u001b[0mdata\u001b[0m\u001b[1;33m)\u001b[0m\u001b[1;33m/\u001b[0m\u001b[1;36m255.0\u001b[0m\u001b[1;33m\u001b[0m\u001b[1;33m\u001b[0m\u001b[0m\n\u001b[0;32m      3\u001b[0m \u001b[0mdata\u001b[0m\u001b[1;33m=\u001b[0m\u001b[0mnp\u001b[0m\u001b[1;33m.\u001b[0m\u001b[0mreshape\u001b[0m\u001b[1;33m(\u001b[0m\u001b[0mdata\u001b[0m\u001b[1;33m,\u001b[0m\u001b[1;33m(\u001b[0m\u001b[0mdata\u001b[0m\u001b[1;33m.\u001b[0m\u001b[0mshape\u001b[0m\u001b[1;33m[\u001b[0m\u001b[1;36m0\u001b[0m\u001b[1;33m]\u001b[0m\u001b[1;33m,\u001b[0m\u001b[0mtamañoimagen\u001b[0m\u001b[1;33m,\u001b[0m\u001b[0mtamañoimagen\u001b[0m\u001b[1;33m,\u001b[0m\u001b[1;36m1\u001b[0m\u001b[1;33m)\u001b[0m\u001b[1;33m)\u001b[0m\u001b[1;33m\u001b[0m\u001b[1;33m\u001b[0m\u001b[0m\n\u001b[0;32m      4\u001b[0m \u001b[1;33m\u001b[0m\u001b[0m\n\u001b[0;32m      5\u001b[0m \u001b[1;32mfrom\u001b[0m \u001b[0mkeras\u001b[0m\u001b[1;33m.\u001b[0m\u001b[0mutils\u001b[0m \u001b[1;32mimport\u001b[0m \u001b[0mnp_utils\u001b[0m\u001b[1;33m\u001b[0m\u001b[1;33m\u001b[0m\u001b[0m\n",
      "\u001b[1;31mNameError\u001b[0m: name 'target' is not defined"
     ]
    }
   ],
   "source": [
    "target=np.array(target)\n",
    "data=np.array(data)/255.0\n",
    "data=np.reshape(data,(data.shape[0],tamañoimagen,tamañoimagen,1))\n",
    "\n",
    "from keras.utils import np_utils\n",
    "\n",
    "new_target=np_utils.to_categorical(target)\n",
    "np.save('data',data)\n",
    "np.save('target',new_target)\n",
    "\n",
    "data=np.load('data.npy')\n",
    "target=np.load('target.npy')"
   ]
  },
  {
   "cell_type": "code",
   "execution_count": 44,
   "id": "f4ceac04",
   "metadata": {},
   "outputs": [
    {
     "name": "stdout",
     "output_type": "stream",
     "text": [
      "[INFO] training head...\n",
      "Epoch 1/20\n"
     ]
    },
    {
     "ename": "ValueError",
     "evalue": "Unexpected result of `train_function` (Empty logs). Please use `Model.compile(..., run_eagerly=True)`, or `tf.config.run_functions_eagerly(True)` for more information of where went wrong, or file a issue/bug to `tf.keras`.",
     "output_type": "error",
     "traceback": [
      "\u001b[1;31m---------------------------------------------------------------------------\u001b[0m",
      "\u001b[1;31mValueError\u001b[0m                                Traceback (most recent call last)",
      "\u001b[1;32m~\\AppData\\Local\\Temp\\ipykernel_12024\\808899551.py\u001b[0m in \u001b[0;36m<module>\u001b[1;34m\u001b[0m\n\u001b[0;32m      1\u001b[0m \u001b[1;31m# train the head of the network\u001b[0m\u001b[1;33m\u001b[0m\u001b[1;33m\u001b[0m\u001b[0m\n\u001b[0;32m      2\u001b[0m \u001b[0mprint\u001b[0m\u001b[1;33m(\u001b[0m\u001b[1;34m\"[INFO] training head...\"\u001b[0m\u001b[1;33m)\u001b[0m\u001b[1;33m\u001b[0m\u001b[1;33m\u001b[0m\u001b[0m\n\u001b[1;32m----> 3\u001b[1;33m H = model.fit(\n\u001b[0m\u001b[0;32m      4\u001b[0m         \u001b[0maug\u001b[0m\u001b[1;33m.\u001b[0m\u001b[0mflow\u001b[0m\u001b[1;33m(\u001b[0m\u001b[0mtrainX\u001b[0m\u001b[1;33m,\u001b[0m \u001b[0mtrainY\u001b[0m\u001b[1;33m,\u001b[0m \u001b[0mbatch_size\u001b[0m\u001b[1;33m=\u001b[0m\u001b[0mBS\u001b[0m\u001b[1;33m)\u001b[0m\u001b[1;33m,\u001b[0m\u001b[1;33m\u001b[0m\u001b[1;33m\u001b[0m\u001b[0m\n\u001b[0;32m      5\u001b[0m         \u001b[0msteps_per_epoch\u001b[0m\u001b[1;33m=\u001b[0m\u001b[0mlen\u001b[0m\u001b[1;33m(\u001b[0m\u001b[0mtrainX\u001b[0m\u001b[1;33m)\u001b[0m \u001b[1;33m//\u001b[0m \u001b[0mBS\u001b[0m\u001b[1;33m,\u001b[0m\u001b[1;33m\u001b[0m\u001b[1;33m\u001b[0m\u001b[0m\n",
      "\u001b[1;32m~\\anaconda3\\lib\\site-packages\\keras\\utils\\traceback_utils.py\u001b[0m in \u001b[0;36merror_handler\u001b[1;34m(*args, **kwargs)\u001b[0m\n\u001b[0;32m     65\u001b[0m     \u001b[1;32mexcept\u001b[0m \u001b[0mException\u001b[0m \u001b[1;32mas\u001b[0m \u001b[0me\u001b[0m\u001b[1;33m:\u001b[0m  \u001b[1;31m# pylint: disable=broad-except\u001b[0m\u001b[1;33m\u001b[0m\u001b[1;33m\u001b[0m\u001b[0m\n\u001b[0;32m     66\u001b[0m       \u001b[0mfiltered_tb\u001b[0m \u001b[1;33m=\u001b[0m \u001b[0m_process_traceback_frames\u001b[0m\u001b[1;33m(\u001b[0m\u001b[0me\u001b[0m\u001b[1;33m.\u001b[0m\u001b[0m__traceback__\u001b[0m\u001b[1;33m)\u001b[0m\u001b[1;33m\u001b[0m\u001b[1;33m\u001b[0m\u001b[0m\n\u001b[1;32m---> 67\u001b[1;33m       \u001b[1;32mraise\u001b[0m \u001b[0me\u001b[0m\u001b[1;33m.\u001b[0m\u001b[0mwith_traceback\u001b[0m\u001b[1;33m(\u001b[0m\u001b[0mfiltered_tb\u001b[0m\u001b[1;33m)\u001b[0m \u001b[1;32mfrom\u001b[0m \u001b[1;32mNone\u001b[0m\u001b[1;33m\u001b[0m\u001b[1;33m\u001b[0m\u001b[0m\n\u001b[0m\u001b[0;32m     68\u001b[0m     \u001b[1;32mfinally\u001b[0m\u001b[1;33m:\u001b[0m\u001b[1;33m\u001b[0m\u001b[1;33m\u001b[0m\u001b[0m\n\u001b[0;32m     69\u001b[0m       \u001b[1;32mdel\u001b[0m \u001b[0mfiltered_tb\u001b[0m\u001b[1;33m\u001b[0m\u001b[1;33m\u001b[0m\u001b[0m\n",
      "\u001b[1;32m~\\anaconda3\\lib\\site-packages\\keras\\engine\\training.py\u001b[0m in \u001b[0;36mfit\u001b[1;34m(self, x, y, batch_size, epochs, verbose, callbacks, validation_split, validation_data, shuffle, class_weight, sample_weight, initial_epoch, steps_per_epoch, validation_steps, validation_batch_size, validation_freq, max_queue_size, workers, use_multiprocessing)\u001b[0m\n\u001b[0;32m   1418\u001b[0m         \u001b[0mlogs\u001b[0m \u001b[1;33m=\u001b[0m \u001b[0mtf_utils\u001b[0m\u001b[1;33m.\u001b[0m\u001b[0msync_to_numpy_or_python_type\u001b[0m\u001b[1;33m(\u001b[0m\u001b[0mlogs\u001b[0m\u001b[1;33m)\u001b[0m\u001b[1;33m\u001b[0m\u001b[1;33m\u001b[0m\u001b[0m\n\u001b[0;32m   1419\u001b[0m         \u001b[1;32mif\u001b[0m \u001b[0mlogs\u001b[0m \u001b[1;32mis\u001b[0m \u001b[1;32mNone\u001b[0m\u001b[1;33m:\u001b[0m\u001b[1;33m\u001b[0m\u001b[1;33m\u001b[0m\u001b[0m\n\u001b[1;32m-> 1420\u001b[1;33m           raise ValueError('Unexpected result of `train_function` '\n\u001b[0m\u001b[0;32m   1421\u001b[0m                            \u001b[1;34m'(Empty logs). Please use '\u001b[0m\u001b[1;33m\u001b[0m\u001b[1;33m\u001b[0m\u001b[0m\n\u001b[0;32m   1422\u001b[0m                            \u001b[1;34m'`Model.compile(..., run_eagerly=True)`, or '\u001b[0m\u001b[1;33m\u001b[0m\u001b[1;33m\u001b[0m\u001b[0m\n",
      "\u001b[1;31mValueError\u001b[0m: Unexpected result of `train_function` (Empty logs). Please use `Model.compile(..., run_eagerly=True)`, or `tf.config.run_functions_eagerly(True)` for more information of where went wrong, or file a issue/bug to `tf.keras`."
     ]
    }
   ],
   "source": [
    "modelo=Sequential()\n",
    "\n",
    "modelo.add(Conv2D(100,(3,3),input_shape=data.shape[1:]))\n",
    "modelo.add(Activation('relu'))\n",
    "modelo.add(MaxPooling2D(pool_size=(2,2)))\n",
    "#La primera capa de la CNN seguida de la activation y MaxPooling\n",
    "#la capa activation decide si una neurona (nodo) debe activarse o no. \n",
    "#Decidirá si la entrada de la neurona a la red es importante o no en el proceso de predicción.\n",
    "#Maxpooling2d Reduce la muestra de entrada (alto y ancho) tomando el valor máximo sobre una entrada definida por pool_size) \n",
    "#para cada canal de la entrada.\n",
    "\n",
    "modelo.add(Conv2D(100,(3,3)))\n",
    "modelo.add(Activation('relu'))\n",
    "modelo.add(MaxPooling2D(pool_size=(2,2)))\n",
    "#La segunda capa de la cnn\n",
    "\n",
    "modelo.add(Flatten())\n",
    "modelo.add(Dropout(0.5))\n",
    "#La función flatten aplana los tensores de entrada multidimensionales en una sola dimensión, \n",
    "#para poder modelar su capa de entrada y construir el modelo de red neuronal\n",
    "modelo.add(Dense(50,activation='relu'))\n",
    "#Dense layer de 64 neuronas, Recibe entrada de todas las neuronas en la capa anterior y produce la salida resultante como un vector\n",
    "#Se utiliza con mayor frecuencia para la manipulación de vectores para cambiar las dimensiones de los vectores.\n",
    "modelo.add(Dense(2,activation='softmax'))\n",
    "#La capa final con dos salidas para dos categorías\n",
    "\n",
    "modelo.compile(loss='binary_crossentropy',optimizer='adam',metrics=['accuracy'])"
   ]
  },
  {
   "cell_type": "code",
   "execution_count": 45,
   "id": "a56f92b9",
   "metadata": {},
   "outputs": [
    {
     "ename": "NameError",
     "evalue": "name 'history' is not defined",
     "output_type": "error",
     "traceback": [
      "\u001b[1;31m---------------------------------------------------------------------------\u001b[0m",
      "\u001b[1;31mNameError\u001b[0m                                 Traceback (most recent call last)",
      "\u001b[1;32m~\\AppData\\Local\\Temp\\ipykernel_12024\\1278774359.py\u001b[0m in \u001b[0;36m<module>\u001b[1;34m\u001b[0m\n\u001b[1;32m----> 1\u001b[1;33m \u001b[0mplt\u001b[0m\u001b[1;33m.\u001b[0m\u001b[0mplot\u001b[0m\u001b[1;33m(\u001b[0m\u001b[0mhistory\u001b[0m\u001b[1;33m.\u001b[0m\u001b[0mhistory\u001b[0m\u001b[1;33m[\u001b[0m\u001b[1;34m'accuracy'\u001b[0m\u001b[1;33m]\u001b[0m\u001b[1;33m,\u001b[0m \u001b[0mlabel\u001b[0m\u001b[1;33m=\u001b[0m\u001b[1;34m'accuracy'\u001b[0m\u001b[1;33m)\u001b[0m\u001b[1;33m\u001b[0m\u001b[1;33m\u001b[0m\u001b[0m\n\u001b[0m\u001b[0;32m      2\u001b[0m \u001b[0mplt\u001b[0m\u001b[1;33m.\u001b[0m\u001b[0mplot\u001b[0m\u001b[1;33m(\u001b[0m\u001b[0mhistory\u001b[0m\u001b[1;33m.\u001b[0m\u001b[0mhistory\u001b[0m\u001b[1;33m[\u001b[0m\u001b[1;34m'val_accuracy'\u001b[0m\u001b[1;33m]\u001b[0m\u001b[1;33m,\u001b[0m \u001b[0mlabel\u001b[0m \u001b[1;33m=\u001b[0m \u001b[1;34m'val_accuracy'\u001b[0m\u001b[1;33m)\u001b[0m\u001b[1;33m\u001b[0m\u001b[1;33m\u001b[0m\u001b[0m\n\u001b[0;32m      3\u001b[0m \u001b[0mplt\u001b[0m\u001b[1;33m.\u001b[0m\u001b[0mxlabel\u001b[0m\u001b[1;33m(\u001b[0m\u001b[1;34m'Epoch'\u001b[0m\u001b[1;33m)\u001b[0m\u001b[1;33m\u001b[0m\u001b[1;33m\u001b[0m\u001b[0m\n\u001b[0;32m      4\u001b[0m \u001b[0mplt\u001b[0m\u001b[1;33m.\u001b[0m\u001b[0mylabel\u001b[0m\u001b[1;33m(\u001b[0m\u001b[1;34m'Accuracy'\u001b[0m\u001b[1;33m)\u001b[0m\u001b[1;33m\u001b[0m\u001b[1;33m\u001b[0m\u001b[0m\n\u001b[0;32m      5\u001b[0m \u001b[0mplt\u001b[0m\u001b[1;33m.\u001b[0m\u001b[0mylim\u001b[0m\u001b[1;33m(\u001b[0m\u001b[1;33m[\u001b[0m\u001b[1;36m0.5\u001b[0m\u001b[1;33m,\u001b[0m \u001b[1;36m1\u001b[0m\u001b[1;33m]\u001b[0m\u001b[1;33m)\u001b[0m\u001b[1;33m\u001b[0m\u001b[1;33m\u001b[0m\u001b[0m\n",
      "\u001b[1;31mNameError\u001b[0m: name 'history' is not defined"
     ]
    }
   ],
   "source": [
    "xdata,ydata,xtarget,ytarget=train_test_split(data,target,test_size=0.1)"
   ]
  },
  {
   "cell_type": "code",
   "execution_count": null,
   "id": "a21fb5f2",
   "metadata": {},
   "outputs": [],
   "source": [
    "checkpoint = ModelCheckpoint('modelo-{epoch:03d}.model',monitor='val_loss',verbose=0,save_best_only=True,mode='auto')\n",
    "history=modelo.fit(xdata,xtarget,epochs=20,callbacks=[checkpoint],validation_split=0.2)\n"
   ]
  },
  {
   "cell_type": "code",
   "execution_count": null,
   "id": "409bf892",
   "metadata": {},
   "outputs": [],
   "source": [
    "losses = model.fit(loader, epochs=10, learning_rate=0.001, lr_step_size=5, verbose=True)"
   ]
  },
  {
   "cell_type": "code",
   "execution_count": null,
   "id": "10d35fa8",
   "metadata": {},
   "outputs": [],
   "source": [
    "plt.plot(history.history['loss'],'r',label='training loss')\n",
    "plt.plot(history.history['val_loss'],label='validation loss')\n",
    "plt.xlabel('# epochs')\n",
    "plt.ylabel('loss')\n",
    "plt.legend()\n",
    "plt.show()"
   ]
  },
  {
   "cell_type": "code",
   "execution_count": null,
   "id": "189b12b0",
   "metadata": {},
   "outputs": [],
   "source": [
    "plt.plot(history.history['accuracy'],'r',label='training accuracy')\n",
    "plt.plot(history.history['val_accuracy'],label='validation accuracy')\n",
    "plt.xlabel('# epochs')\n",
    "plt.ylabel('loss')\n",
    "plt.legend()\n",
    "plt.show()\n",
    "\n",
    "print(modelo.evaluate(ydata,ytarget))"
   ]
  },
  {
   "cell_type": "code",
   "execution_count": null,
   "id": "5645add4",
   "metadata": {},
   "outputs": [],
   "source": [
    "modelo = load_model('modelo-012.model')\n",
    "\n",
    "detectacara=cv2.CascadeClassifier(cv2.data.haarcascades +'haarcascade_frontalface_default.xml')\n",
    "\n",
    "fuente=cv2.VideoCapture(0)\n",
    "\n",
    "IDs={0:'with_mask',1:'without_mask'}\n",
    "Rojooverde={0:(0,255,0),1:(0,0,255)}"
   ]
  },
  {
   "cell_type": "code",
   "execution_count": null,
   "id": "079b7ec9",
   "metadata": {},
   "outputs": [],
   "source": [
    "modelo = load_model('modelo-012.model')\n",
    "\n",
    "detectacara=cv2.CascadeClassifier(cv2.data.haarcascades +'haarcascade_frontalface_default.xml')\n",
    "\n",
    "fuente=cv2.VideoCapture(0)\n",
    "\n",
    "IDs={0:'with_mask',1:'without_mask'}\n",
    "Rojooverde={0:(0,255,0),1:(0,0,255)}"
   ]
  }
 ],
 "metadata": {
  "kernelspec": {
   "display_name": "Python 3 (ipykernel)",
   "language": "python",
   "name": "python3"
  },
  "language_info": {
   "codemirror_mode": {
    "name": "ipython",
    "version": 3
   },
   "file_extension": ".py",
   "mimetype": "text/x-python",
   "name": "python",
   "nbconvert_exporter": "python",
   "pygments_lexer": "ipython3",
   "version": "3.9.13"
  }
 },
 "nbformat": 4,
 "nbformat_minor": 5
}
